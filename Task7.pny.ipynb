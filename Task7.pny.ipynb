{
 "cells": [
  {
   "cell_type": "code",
   "execution_count": 6,
   "metadata": {},
   "outputs": [
    {
     "name": "stdout",
     "output_type": "stream",
     "text": [
      "File 'Task7_NewfileCreation_with_timestamp_2024-03-12_14-55-13.txt' created successfully!\n"
     ]
    }
   ],
   "source": [
    "#1.\n",
    "import os\n",
    "from datetime import datetime\n",
    "\n",
    "def create_file_with_timestamp():\n",
    "    timestamp = datetime.now().strftime(\"%Y-%m-%d_%H-%M-%S\")\n",
    "    directory = r\"C:\\Users\\MageSaran\\OneDrive\\Desktop\\Saraniya_GUVI\"  # Specify the directory name\n",
    "    filename = f\"Task7_NewfileCreation_with_timestamp_{timestamp}.txt\"\n",
    "    \n",
    "    # Concatenate the directory and filename separately\n",
    "    filepath = os.path.join(directory, filename)\n",
    "    \n",
    "    # Open the file with the full filepath\n",
    "    with open(filepath, 'w') as file:\n",
    "        file.write(timestamp)\n",
    "\n",
    "    print(f\"File '{filename}' created successfully!\")\n",
    "\n",
    "if 1==1:\n",
    "    create_file_with_timestamp()"
   ]
  },
  {
   "cell_type": "code",
   "execution_count": 4,
   "metadata": {},
   "outputs": [
    {
     "name": "stdout",
     "output_type": "stream",
     "text": [
      "File Name: Task7_NewfileCreation_with_timestamp_2024-03-12_13-29-36.txt\n",
      "File Contents: 2024-03-12_13-29-36\n"
     ]
    }
   ],
   "source": [
    "import os\n",
    "\n",
    "def read_file_and_print(filename):\n",
    "    if os.path.exists(filename):\n",
    "        with open(filename, 'r') as file:\n",
    "            file_contents = file.read()\n",
    "        file_name = os.path.basename(filename)  # Extract only the filename without the path\n",
    "        print(f\"File Name: {file_name}\")\n",
    "        print(\"File Contents:\",file_contents)\n",
    "        \n",
    "    else:\n",
    "        print(f\"File '{filename}' does not exist.\")\n",
    "\n",
    "if 2==2:\n",
    "    filename = r\"C:\\Users\\MageSaran\\OneDrive\\Desktop\\Saraniya_GUVI\\Task7_NewfileCreation_with_timestamp_2024-03-12_13-29-36.txt\"  # Update the filename with the correct path\n",
    "    read_file_and_print(filename)"
   ]
  }
 ],
 "metadata": {
  "kernelspec": {
   "display_name": "Python 3",
   "language": "python",
   "name": "python3"
  },
  "language_info": {
   "codemirror_mode": {
    "name": "ipython",
    "version": 3
   },
   "file_extension": ".py",
   "mimetype": "text/x-python",
   "name": "python",
   "nbconvert_exporter": "python",
   "pygments_lexer": "ipython3",
   "version": "3.12.2"
  }
 },
 "nbformat": 4,
 "nbformat_minor": 2
}
